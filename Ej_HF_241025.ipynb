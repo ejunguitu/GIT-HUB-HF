{
 "cells": [
  {
   "cell_type": "code",
   "execution_count": 45,
   "id": "114a050b",
   "metadata": {},
   "outputs": [],
   "source": [
    "\n",
    "\"\"\" \n",
    "De acuerdo con la configuración del juego, vamos a necesitar los siguientes tableros para 2 jugadores: \n",
    "- Jugador 1 : dos tableros (tablero de ataque + tablero de barcos/impactos). Visible en pantalla.\n",
    "- Jugador 2 : un tablero de ataque. No visible.\n",
    "\n",
    "La estrategia de defenda del Jugador 1 será definida por el usuari@ (humano). \n",
    "Sin embargo, la estrategia del Jugador 2 será definida de forma aleatoria (máquina). \n",
    "\"\"\"\n",
    "\n",
    "# Definir elementos comunes - VARIABLES GLOBALES Y CONSTANTES\n",
    "\n",
    "\"\"\"\n",
    "Vamos a configurar varios tableros que van a estar configurados\n",
    "por variables comunes: \n",
    "- Configuración de la matriz : FILAS y COLUMNAS.\n",
    "- El TAMAÑO de todos los tableros deber ser uniforme: (área; x*y).\n",
    "- SIMBOLOS de las posiciones que representan el barco, el impacto y el agua. \n",
    "- La definición de la flota para ambos jugadores será también común (Nº barcos/Nº eslorasxbarco). \n",
    "\n",
    "Nota: más adelante veremos la configuración común de los atributos de los barcos (clase barco).\n",
    "\"\"\"\n",
    "\n",
    "# Parámetros del tablero: \n",
    "filas = (5)\n",
    "columnas = (5)\n",
    "\n",
    "# Posiciones estratégicas - símbolos:\n",
    "s_agua = \"~\" \n",
    "s_tocado = \"X\"\n",
    "s_impacto_fallido = \".\"\n",
    "s_barco = \"O\"\n",
    "\n",
    "## El tamaño de la flota es común a ambos jugadores. \n",
    "flota = [2,3]\n"
   ]
  },
  {
   "cell_type": "code",
   "execution_count": null,
   "id": "b8441c94",
   "metadata": {},
   "outputs": [
    {
     "name": "stdout",
     "output_type": "stream",
     "text": [
      "<class 'int'>\n",
      "5\n",
      "___________\n",
      "<class 'str'>\n",
      "~\n",
      "___________\n",
      "<class 'list'>\n",
      "[2, 3]\n"
     ]
    }
   ],
   "source": [
    "# Comprobación: \n",
    "\n",
    "print(type(columnas))\n",
    "print (columnas)\n",
    "print (\"___________\")\n",
    "\n",
    "print (type(s_agua))\n",
    "print (s_agua)\n",
    "print (\"___________\")\n",
    "\n",
    "print (type(flota))\n",
    "print (flota)"
   ]
  },
  {
   "cell_type": "code",
   "execution_count": 54,
   "id": "a402927b",
   "metadata": {},
   "outputs": [
    {
     "name": "stdout",
     "output_type": "stream",
     "text": [
      "\n",
      "Tablero de ejemplo vacío: 5, 5\n",
      "\n",
      "['~', '~', '~', '~', '~']\n",
      "['~', '~', '~', '~', '~']\n",
      "['~', '~', '~', '~', '~']\n",
      "['~', '~', '~', '~', '~']\n",
      "['~', '~', '~', '~', '~']\n"
     ]
    }
   ],
   "source": [
    "\"\"\" \n",
    "Como primer paso vamos a crear un tablero con posiciones de agua.\n",
    "\n",
    "Nota: vamos a ver distintas formas de representar el tablero. \n",
    "\"\"\"\n",
    "# - CREAR FUNCION TABLERO -\n",
    "\n",
    "def crear_tablero():                # Se crea la función \"crar tablero\"\n",
    "    tablero = []                    # Se crea un tablero vacío. tablero type <class 'list'>\n",
    "    for x in range(filas):          # Bucle para establecer el valor en cada rango de filas donde vamos a incluir:\n",
    "        fila = []                   # Una lista de filas, compuesta por: \n",
    "        for y in range(columnas):   # Un rango de columnas (5)\n",
    "            fila.append(s_agua)     # añadimos la variable constante s_agua a la casilla; s= símbolo\n",
    "        tablero.append(fila)        # añadimos fila completa al tablero\n",
    "    return tablero\n",
    "\n",
    "print(f\"\\nTablero de ejemplo vacío: {filas}, {columnas}\\n\")\n",
    "\n",
    "## Creamos un tablero de ejemplo y probamos la función\n",
    "\n",
    "tablero = crear_tablero()\n",
    "for fila in tablero:\n",
    "    print((fila)) \n"
   ]
  },
  {
   "cell_type": "code",
   "execution_count": 58,
   "id": "888999e1",
   "metadata": {},
   "outputs": [
    {
     "name": "stdout",
     "output_type": "stream",
     "text": [
      "<class 'int'>\n",
      "range(0, 5)\n",
      "________________\n",
      "5\n",
      "_________________\n",
      "range(0, 5)\n",
      "__________________\n",
      "['~', '~', '~', '~', '~']\n",
      "_________________\n",
      "[['~', '~', '~', '~', '~'], ['~', '~', '~', '~', '~'], ['~', '~', '~', '~', '~'], ['~', '~', '~', '~', '~'], ['~', '~', '~', '~', '~']]\n",
      "_______________\n",
      "~ ~ ~ ~ ~\n",
      "~ ~ ~ ~ ~\n",
      "~ ~ ~ ~ ~\n",
      "~ ~ ~ ~ ~\n",
      "~ ~ ~ ~ ~\n"
     ]
    }
   ],
   "source": [
    "# Comprobación: \n",
    "\n",
    "print(type(filas))\n",
    "print (range(filas))\n",
    "print (\"________________\")\n",
    "\n",
    "print(filas)\n",
    "print(\"_________________\")\n",
    "\n",
    "print(range(filas))\n",
    "print(\"__________________\")\n",
    "\n",
    "print(fila)\n",
    "print (\"_________________\")\n",
    "\n",
    "print(tablero)\n",
    "(print (\"_______________\"))\n",
    "\n",
    "for fila in tablero:\n",
    "    print(\" \".join(fila)) # aplicamos formato tablero\n"
   ]
  },
  {
   "cell_type": "markdown",
   "id": "126461ba",
   "metadata": {},
   "source": [
    "# HELP: \n",
    "\n",
    "## Ayuda estructura 'for variable in secuencia': \n",
    "\n",
    "\"For\" es una estructura de control de `bucle`.  \n",
    "Permite recorrer una secuencia de elementos (lista, tupla, cadena, rango de números, etc.)  \n",
    "y ejecutar un bloque de código para cada elemento.  \n",
    "\n",
    "Sintaxis básica: \n",
    "for variable in secuencia (bloque de código que se repite): \n",
    "1. variable: toma cada valor de la secuencia en cada iteración.\n",
    "2. secuencia: puede ser: \n",
    "    - una lista, \n",
    "    - un rango (range()), \n",
    "    - una cadena de texto, etc.\n",
    "\n",
    "## Ayuda métodos .append:\n",
    "\n",
    "Es un `método` de listas en Python.  \n",
    "Sirve para agregar un elemento al final de una lista.  \n",
    "No devuelve nada (modifica la lista “in-place”).  \n",
    "\n",
    "## Ayuda funciones:  / range () / def\n",
    "\n",
    "1. `range` ():  \n",
    "Es una función que genera una secuencia de números.  \n",
    "Muy utilizada en bucles for.  \n",
    "Ejemplo de uso:\n",
    "    - for i in range(2, 10, 2):  # empieza en 2, hasta 9, paso 2\n",
    "    - print(i)  # 2 4 6 8\n",
    "\n",
    "2. `def`:  \n",
    "Función que permite agrupar código que luego podemos llamar varias veces.  \n",
    "\"def\" siempre va seguido del nombre de la función y los parámetros entre paréntesis.  \n",
    "Todo lo que va dentro de la función debe ir indentado (sangrado).\n",
    "\n",
    "## Aplicar formato con .join:  \n",
    "\n",
    ".join() es un `método` de cadenas (strings).\n",
    "Toma una lista de cadenas y las une en una sola cadena, usando el string que llama al método como separador.\n",
    "En este caso, \" \" (un espacio) será el separador entre elementos."
   ]
  },
  {
   "cell_type": "code",
   "execution_count": 60,
   "id": "b873a9ca",
   "metadata": {},
   "outputs": [
    {
     "name": "stdout",
     "output_type": "stream",
     "text": [
      "~ ~ ~ ~ ~\n",
      "~ ~ ~ ~ ~\n",
      "~ ~ ~ ~ ~\n",
      "~ ~ ~ ~ ~\n",
      "~ ~ ~ ~ ~\n"
     ]
    }
   ],
   "source": [
    "# Otra forma de crear tablero con NUMPY: \n",
    "\n",
    "import numpy as np\n",
    "\n",
    "# Crear tablero con Numpy (matriz de texto)\n",
    "tablero = np.full((filas, columnas), s_agua, str)\n",
    "for fila in tablero:\n",
    "    print(\" \".join(fila))\n"
   ]
  },
  {
   "cell_type": "markdown",
   "id": "a2c1b0ec",
   "metadata": {},
   "source": [
    "## Ayuda función np.full() en `NumPy`: \n",
    "\n",
    "np.full() es una `función` de NumPy que permite crear un array/matriz  \n",
    "con un tamaño fijo y rellenarlo con un mismo valor.  \n",
    "- shape: tupla con las dimensiones del array (filas, columnas).\n",
    "- fill_value: el valor con el que quieres rellenar cada celda (s_agua).\n",
    "- dtype (opcional): tipo de dato (int, float, str…)."
   ]
  },
  {
   "cell_type": "code",
   "execution_count": 64,
   "id": "bdb54c4b",
   "metadata": {},
   "outputs": [
    {
     "name": "stdout",
     "output_type": "stream",
     "text": [
      "   1  2  3  4  5\n",
      "A\n",
      "B\n",
      "C\n",
      "D\n",
      "E\n"
     ]
    }
   ],
   "source": [
    "# Vamos a representar el tablero agregando los índices de las filas y columnas: \n",
    "\n",
    "print(\"   \" + \n",
    "        \"  \".join(\n",
    "        [str(i+1) \n",
    "        for i in range(columnas)]))  # Índices de columnas\n",
    "\n",
    "for i, fila in enumerate(tablero):\n",
    "    print(chr(65 + i))               # Índices de filas"
   ]
  },
  {
   "cell_type": "code",
   "execution_count": 66,
   "id": "2a2d64a0",
   "metadata": {},
   "outputs": [
    {
     "name": "stdout",
     "output_type": "stream",
     "text": [
      "1\n",
      "2\n",
      "3\n",
      "4\n",
      "5\n"
     ]
    }
   ],
   "source": [
    "# Otra forma de representar el índice de las filas con número: \n",
    "\n",
    "for i, fila in enumerate (tablero): \n",
    "    print(i+1)"
   ]
  },
  {
   "cell_type": "markdown",
   "id": "92c85e37",
   "metadata": {},
   "source": [
    "## Ayuda método enumerate:  \n",
    "\n",
    "El `método/función` enumerate() en Python sirve para recorrer una  \n",
    "secuencia (como una lista, tupla o matriz) y, al mismo tiempo,  \n",
    "obtener el índice y el valor de cada elemento.  \n",
    "Con enumerate(lista) obtienes un contador (índice) y el valor.  \n",
    "\n",
    "La sintaxis es como se muestra a continuación:  \n",
    "for indice, valor in enumerate(iterable):  \n",
    "- indice: número de posición (0, 1, 2 …)\n",
    "- valor: el elemento correspondiente del iterable"
   ]
  },
  {
   "cell_type": "code",
   "execution_count": 70,
   "id": "d77a0af9",
   "metadata": {},
   "outputs": [
    {
     "name": "stdout",
     "output_type": "stream",
     "text": [
      "   1  2  3  4  5\n",
      "A  ~  ~  ~  ~  ~\n",
      "B  ~  ~  ~  ~  ~\n",
      "C  ~  ~  ~  ~  ~\n",
      "D  ~  ~  ~  ~  ~\n",
      "E  ~  ~  ~  ~  ~\n"
     ]
    }
   ],
   "source": [
    "# Vamos a representar el tablero completo utilizando los índices de filas y columnas (tablero np):\n",
    "\n",
    "print(\"   \" + \"  \".join([str(i+1) for i in range(columnas)]))  \n",
    "for i, fila in enumerate(tablero):\n",
    "    print(chr(65 + i) + \"  \" +     \"  \".join(fila))  # A, B, C... + contenido de la fila"
   ]
  },
  {
   "cell_type": "code",
   "execution_count": 72,
   "id": "cd93a393",
   "metadata": {},
   "outputs": [
    {
     "name": "stdout",
     "output_type": "stream",
     "text": [
      "Tablero de defensa:\n",
      "   1  2  3  4  5\n",
      "A  ~  ~  ~  ~  ~\n",
      "B  ~  ~  ~  ~  ~\n",
      "C  ~  ~  ~  ~  ~\n",
      "D  ~  ~  ~  ~  ~\n",
      "E  ~  ~  ~  ~  ~\n",
      "___________________\n",
      "Tablero de ataque:\n",
      "   1  2  3  4  5\n",
      "A  ~  ~  ~  ~  ~\n",
      "B  ~  ~  ~  ~  ~\n",
      "C  ~  ~  ~  ~  ~\n",
      "D  ~  ~  ~  ~  ~\n",
      "E  ~  ~  ~  ~  ~\n"
     ]
    }
   ],
   "source": [
    "\n",
    "# Vamos a crear los dos tableros del usuario con numpy: \n",
    "\n",
    "import numpy as np\n",
    "\n",
    "# Creamos los tableros con Numpy (matriz de texto):\n",
    "tablero_defensa_usuario = np.full((filas, columnas), s_agua, str)\n",
    "tablero_ataque_usuario = np.full((filas, columnas), s_agua, str)\n",
    "\n",
    "# Damos formato a los tableros con índices: \n",
    "print (f\"Tablero de defensa:\")\n",
    "print(\"   \" + \"  \".join([str(i+1) for i in range(columnas)]))  \n",
    "for i, fila in enumerate(tablero_defensa_usuario):\n",
    "    print(chr(65 + i) + \"  \" + \"  \".join(fila))  \n",
    "print (\"___________________\")\n",
    "\n",
    "print (f\"Tablero de ataque:\")\n",
    "print(\"   \" + \"  \".join([str(i+1) for i in range(columnas)]))  \n",
    "for i, fila in enumerate(tablero_ataque_usuario):\n",
    "    print(chr(65 + i) + \"  \" + \"  \".join(fila)) \n"
   ]
  },
  {
   "cell_type": "markdown",
   "id": "4b16f9fe",
   "metadata": {},
   "source": [
    "# Ayuda tabla ASCII: \n",
    "\n",
    "chr(65)  # Resultado: 'A'  \n",
    "chr(66)  # Resultado: 'B'  \n",
    "  \n",
    "ord('A')  # Resultado: 65  \n",
    "ord('B')  # Resultado: 66  \n",
    "  \n",
    "for i in range(filas):\n",
    "    letra = chr(65 + i)\n",
    "\n",
    "Si i = 0 → chr(65 + 0) → 'A'  \n",
    "Si i = 1 → chr(65 + 1) → 'B'\n",
    "\n"
   ]
  },
  {
   "cell_type": "code",
   "execution_count": 77,
   "id": "e3b91eff",
   "metadata": {},
   "outputs": [
    {
     "name": "stdout",
     "output_type": "stream",
     "text": [
      "TABLERO DE DEFENSA      | TABLERO DE ATAQUE\n",
      "    1   2   3   4   5   |     1   2   3   4   5  \n"
     ]
    }
   ],
   "source": [
    "\n",
    "# Vamos a visualizar los dos tableros en paralelo\n",
    "\n",
    "## Como primer paso, vamos a parametrizar el ancho deseado ente celdas (variable constante)\n",
    "cell_w = 4  # ancho fijo de celda\n",
    "\n",
    "# Identificamos los títulos de las cabeceras\n",
    "## Configuramos el formato para los índices de las columnas\n",
    "\n",
    "titulo_tabl_us_def, titulo_abl_us_ataq = \"TABLERO DE DEFENSA\", \"TABLERO DE ATAQUE\"\n",
    "header = \"   \" + \"\".join(str(i+1).center(cell_w) for i in range(columnas))\n",
    "max_left = max(len(titulo_tabl_us_def), len(header), 10)   # para alinear\n",
    "\n",
    "print(titulo_tabl_us_def.ljust(max_left) + \" | \" + titulo_tabl_us_ataq)\n",
    "print(header.ljust(max_left) + \" | \" + header)\n",
    "\n"
   ]
  },
  {
   "cell_type": "markdown",
   "id": "77c895b4",
   "metadata": {},
   "source": [
    "## Ayuda método .ljust:  \n",
    "\n",
    "El `método` .ljust(ancho) en Python es un método de strings que sirve para alinear texto a la izquierda  \n",
    "rellenando con espacios hasta alcanzar un ancho fijo.  \n",
    "Sintaxis:  \n",
    "- cadena.ljust(ancho, caracter_relleno)  \n",
    "- cadena: el texto que quieres alinear.  \n",
    "- ancho: número total de caracteres que debe ocupar la cadena después del relleno.   \n",
    "\n",
    "caracter_relleno (opcional): el carácter que se usará para rellenar (por defecto es espacio \" \")."
   ]
  },
  {
   "cell_type": "code",
   "execution_count": 82,
   "id": "fe213110",
   "metadata": {},
   "outputs": [
    {
     "name": "stdout",
     "output_type": "stream",
     "text": [
      "TABLERO DE DEFENSA      | TABLERO DE ATAQUE\n",
      "    1   2   3   4   5   |     1   2   3   4   5  \n",
      "A   ~   ~   ~   ~   ~   | A   ~   ~   ~   ~   ~  \n",
      "B   ~   ~   ~   ~   ~   | B   ~   ~   ~   ~   ~  \n",
      "C   ~   ~   ~   ~   ~   | C   ~   ~   ~   ~   ~  \n",
      "D   ~   ~   ~   ~   ~   | D   ~   ~   ~   ~   ~  \n",
      "E   ~   ~   ~   ~   ~   | E   ~   ~   ~   ~   ~  \n"
     ]
    }
   ],
   "source": [
    "# Componemos la visualización completa: \n",
    "print(titulo_tabl_us_def.ljust(max_left) + \" | \" + titulo_tabl_us_ataq)\n",
    "print(header.ljust(max_left) + \" | \" + header)\n",
    "\n",
    "for i in range(filas):\n",
    "    fila_def = \"\".join(tablero_defensa_usuario [i, j].center(cell_w) for j in range(columnas))\n",
    "    fila_ata = \"\".join(tablero_ataque_usuario [i, j].center(cell_w) for j in range(columnas))\n",
    "    print(f\"{chr(65+i)}  {fila_def}\".ljust(max_left) + \" | \" + f\"{chr(65+i)}  {fila_ata}\")"
   ]
  },
  {
   "cell_type": "code",
   "execution_count": 105,
   "id": "f9308e1b",
   "metadata": {},
   "outputs": [],
   "source": [
    "\"\"\" \n",
    "Como segundo paso, vamos a solicitar los atributos al usuario para incluir los barcos.\n",
    "\"\"\"\n",
    "\n",
    "# - DEFINIR CLASE BARCO -\n",
    "## Los barcos tendrán atributos comunes : nombre, eslora, posición (fila/columna), orientación\n",
    "\n",
    "class Barco:\n",
    "    def __init__(self, nombre, eslora, fila, columna, orientacion):\n",
    "        self.nombre = nombre\n",
    "        self.eslora = eslora\n",
    "        self.fila = fila                        # Posición inicial fila\n",
    "        self.columna = columna                  # Posición inicial columna\n",
    "        self.orientacion = orientacion.upper () # \"H\" (horizontal) o \"V\" (vertical)\n",
    "\n",
    "    def __repr__(self):\n",
    "        return f\"{self.nombre} (eslora {self.eslora}) en ({self.fila}, {self.columna}) {self.orientacion}\""
   ]
  },
  {
   "cell_type": "markdown",
   "id": "5f42722b",
   "metadata": {},
   "source": [
    "\n",
    "## Ayuda clases:  \n",
    "\n",
    "La palabra `clave class` se usa para definir una clase, que es como un “molde” o “plantilla”  \n",
    "para crear objetos que tienen atributos (datos) y métodos (funciones).\n",
    "\n",
    "## Ayuda - init- :  \n",
    "\n",
    "_init__ es un `método` especial de Python llamado `constructor`.  \n",
    "Se ejecuta automáticamente cuando se crea un objeto de la clase.  \n",
    "Sirve para inicializar los atributos del objeto.\n",
    "\n",
    "## Ayuda '_repr_' :  \n",
    "\n",
    "Es un `método` especial de Python.  \n",
    "Su función es devolver una representación “oficial” del objeto, útil para depuración.  \n",
    "Cuando se escribe el nombre del objeto en la consola, Python llama a __repr__ para mostrarlo.  \n",
    "\n",
    "## Ayuda self:  \n",
    "\n",
    "self es una `referencia al objeto`. \n",
    "Cada vez que llamamos a un método de un objeto, Python pasa automáticamente ese objeto como primer parámetro, que llamamos self.  \n",
    "Con self.atributo guardas los datos dentro de ese objeto específico.\n",
    "\n",
    "# Ayuda método upper():\n",
    "\n",
    "El `método` upper() en Python se utiliza para convertir una cadena de texto a mayúsculas.\n",
    "cadena_mayus = cadena.upper()  # Convierte todo a mayúsculas\n",
    "\n",
    "Por el contrario, \n",
    "cadena_mayus = cadena.lower()  # Convierte todo a minúsculas"
   ]
  },
  {
   "cell_type": "code",
   "execution_count": 106,
   "id": "50c422ff",
   "metadata": {},
   "outputs": [],
   "source": [
    "\"\"\" \n",
    "Como tercer paso, se deberá colocar el barco en el tablero atendiendo a los inputs marcados por el usuario.\n",
    "Vamos a recrear el ejemplo de que el usuario vaya a posicionar los barcos.\n",
    "Necesitaremos dos funciones: crear el barco / colocar el barco en el tablero\n",
    "\"\"\"\n",
    "\n",
    "# - CREAR UN BARCO DESDE INPUT - \n",
    "## Vamos a utilizar una función para crear un barco con inputs del usuario\n",
    "def crear_barco_por_input(eslora):\n",
    "    nombre = input(f\"Nombre del barco de eslora: {eslora} \")\n",
    "    fila = int(input(\"Fila donde empieza : \"))\n",
    "    columna = int(input(\"Columna donde empieza: \"))\n",
    "    orientacion = input(\"Orientación (H para horizontal, V para vertical): \")\n",
    "    return Barco (nombre, eslora, fila, columna, orientacion)\n",
    "\n",
    "# - COLOCAR BARCO EN EL TABLERO DE DEFENSA USUARIO-\n",
    "\n",
    "def colocar_barco(tablero_defensa_usuario, barco, s_barco= s_barco):\n",
    "    for i in range(barco.eslora):\n",
    "        if barco.orientacion == \"H\":\n",
    "            tablero_defensa_usuario[barco.fila][barco.columna + i] = s_barco\n",
    "        elif barco.orientacion == \"V\":\n",
    "            tablero_defensa_usuario[barco.fila + i][barco.columna] = s_barco"
   ]
  },
  {
   "cell_type": "code",
   "execution_count": 111,
   "id": "ef61079a",
   "metadata": {},
   "outputs": [
    {
     "name": "stdout",
     "output_type": "stream",
     "text": [
      "\n",
      "Tablero con la flota colocada:\n",
      "~ ~ ~ ~ ~\n",
      "~ O O ~ O\n",
      "~ ~ ~ ~ O\n",
      "~ ~ ~ ~ O\n",
      "~ ~ ~ ~ ~\n",
      "\n",
      "Barcos colocados:\n",
      "- Titanic (eslora 2)\n",
      "- San Cristobal (eslora 3)\n"
     ]
    }
   ],
   "source": [
    "\n",
    "# Vamos a realizar un ejemplo de EJECUCIÓN en el tablero de defensa del usuario: crear tablero y colocar flota: \n",
    "\"\"\" \n",
    "Nota: para evitar errores todavía no depurados en el código, \n",
    "controlaremos manualmente que las posiciones están dentro del tamaño del tablero.\n",
    "En este ejemplo, no vamos a considerar el índice de filas y columnas. \n",
    "\"\"\"\n",
    "\n",
    "if __name__ == \"__main__\":\n",
    "    tablero_defensa_usuario = crear_tablero()\n",
    "    barcos = []\n",
    "\n",
    "    # Crear los barcos de la flota fija\n",
    "    for eslora in flota:\n",
    "        barco = crear_barco_por_input(eslora)\n",
    "        colocar_barco(tablero_defensa_usuario, barco)\n",
    "        barcos.append(barco)\n",
    "\n",
    "    # Mostrar tablero\n",
    "    print(\"\\nTablero con la flota colocada:\")\n",
    "    for fila in tablero_defensa_usuario:\n",
    "        print(\" \".join(fila))\n",
    "\n",
    "    # Mostrar nombres de los barcos elegidos por el usuario\n",
    "    print(\"\\nBarcos colocados:\")\n",
    "    for barco in barcos:\n",
    "        print(f\"- {barco.nombre} (eslora {barco.eslora})\")\n",
    "\n"
   ]
  },
  {
   "cell_type": "code",
   "execution_count": null,
   "id": "04797585",
   "metadata": {},
   "outputs": [
    {
     "name": "stdout",
     "output_type": "stream",
     "text": [
      "\n",
      "Diccionario de barcos:\n",
      "Titanic: eslora=2, fila=1, columna=1, orientación=H\n",
      "San Cristobal: eslora=3, fila=1, columna=4, orientación=V\n"
     ]
    }
   ],
   "source": [
    "\n",
    "# Otra forma es crear un diccionario para guardar los barcos: \n",
    "dicc_barcos = {}\n",
    "\n",
    "# Crear la flota fija y agregar al diccionario\n",
    "for eslora in flota:  \n",
    "    barco = crear_barco_por_input(eslora)\n",
    "    colocar_barco(tabl_us_def , barco)\n",
    "    dicc_barcos[barco.nombre] = barco  # Agregamos el barco al diccionario\n",
    "\n",
    "# Mostrar diccionario de barcos\n",
    "print(\"\\nDiccionario de barcos:\")\n",
    "for nombre, barco in dicc_barcos.items():\n",
    "    print(f\"{nombre}: eslora={barco.eslora}, fila={barco.fila}, columna={barco.columna}, orientación={barco.orientacion}\")"
   ]
  },
  {
   "cell_type": "markdown",
   "id": "d5e67e66",
   "metadata": {},
   "source": [
    "# Ayuda bloque if _name_ == '_main_':  \n",
    "\n",
    "Sirve para que cierto código solo se ejecute cuando el archivo se corre directamente, \n",
    "y no cuando se importa.\n"
   ]
  },
  {
   "cell_type": "code",
   "execution_count": 3,
   "id": "c604108e",
   "metadata": {},
   "outputs": [],
   "source": [
    "# Vamos a incluir código para evitar el solapamiento de las posiciones del barco en su colocación: \n",
    "## Debemos integrar esta función en la función de creación de los barcos: \n",
    "\n",
    "def validar_posicion(barco):\n",
    "    if barco.fila < 0 or barco.columna < 0:\n",
    "        return False\n",
    "    if barco.orientacion == \"H\" and barco.columna + barco.eslora > columnas:\n",
    "        return False\n",
    "    if barco.orientacion == \"V\" and barco.fila + barco.eslora > filas:\n",
    "        return False\n",
    "    return True\n",
    "\n",
    "def revisar_solapamiento(tablero, barco):\n",
    "    for i in range(barco.eslora):\n",
    "        if barco.orientacion == \"H\":\n",
    "            if tablero[barco.fila, barco.columna + i] != s_agua:\n",
    "                return False\n",
    "        else:\n",
    "            if tablero[barco.fila + i, barco.columna] != s_agua:\n",
    "                return False\n",
    "    return True\n",
    "\n",
    "def crear_barco_por_input(eslora, tablero):\n",
    "    nombre = input(f\"Nombre del barco de eslora {eslora}: \")\n",
    "    while True:\n",
    "        try:\n",
    "            fila = int(input(\"Fila donde empieza: \"))\n",
    "            columna = int(input(\"Columna donde empieza: \"))\n",
    "            orientacion = input(\"Orientación (H para horizontal, V para vertical): \").upper()\n",
    "            barco = Barco(nombre, eslora, fila, columna, orientacion)\n",
    "            if not validar_posicion(barco):\n",
    "                print(\"Error. El barco se sale del tablero. Prueba otra vez.\")\n",
    "                continue\n",
    "            if not revisar_solapamiento(tablero, barco):\n",
    "                print(\"Error. Solapamiento con otro barco. Prueba otra vez.\")\n",
    "                continue\n",
    "            return barco\n",
    "        except ValueError:\n",
    "            print(\"Fila y columna deben ser números enteros.\")\n"
   ]
  },
  {
   "cell_type": "markdown",
   "id": "98ef52df",
   "metadata": {},
   "source": [
    "## Ayuda if and while:  \n",
    "\n",
    "Tanto if como while son `estructuras de control` en Python.  \n",
    "Sirven para decidir qué hacer o repetir acciones según una `condición`.  \n",
    "\n",
    "- if: toma una decisión (condicional). El if ejecuta un bloque de código solo si se cumple una condición.\n",
    "- while: repite mientras algo sea cierto (bucle). El while repite un bloque de código mientras una condición sea verdadera."
   ]
  },
  {
   "cell_type": "code",
   "execution_count": 6,
   "id": "5397cf10",
   "metadata": {},
   "outputs": [
    {
     "name": "stdout",
     "output_type": "stream",
     "text": [
      "TABLERO DE DEFENSA      | TABLERO DE ATAQUE\n",
      "    1   2   3   4   5   |     1   2   3   4   5  \n",
      "A   ~   ~   ~   ~   ~   | A   ~   ~   ~   ~   ~  \n",
      "B   ~   O   O   ~   O   | B   ~   ~   ~   ~   ~  \n",
      "C   ~   ~   ~   ~   O   | C   ~   ~   ~   ~   ~  \n",
      "D   ~   ~   ~   ~   O   | D   ~   ~   ~   ~   ~  \n",
      "E   ~   ~   ~   ~   ~   | E   ~   ~   ~   ~   ~  \n",
      "\n",
      "Diccionario de barcos:\n",
      "Titanic: Titanic (eslora 2) en (1, 1) H\n",
      "San Cristobal: San Cristobal (eslora 3) en (1, 4) V\n"
     ]
    }
   ],
   "source": [
    "# Prueba de EJECUCIÓN (selección de código): \n",
    "\n",
    "import numpy as np\n",
    "\n",
    "# --- CONSTANTES ---\n",
    "filas, columnas = 5, 5\n",
    "s_agua = \"~\"\n",
    "s_barco = \"O\"\n",
    "flota = [2, 3]  \n",
    "cell_w = 4      \n",
    "\n",
    "# --- CLASE ---\n",
    "class Barco:\n",
    "    def __init__(self, nombre, eslora, fila, columna, orientacion):\n",
    "        self.nombre = nombre\n",
    "        self.eslora = eslora\n",
    "        self.fila = fila\n",
    "        self.columna = columna\n",
    "        self.orientacion = orientacion.upper()\n",
    "\n",
    "    def __repr__(self):\n",
    "        return f\"{self.nombre} (eslora {self.eslora}) en ({self.fila}, {self.columna}) {self.orientacion}\"\n",
    "\n",
    "# --- FUNCIONES ---\n",
    "def validar_posicion(barco):\n",
    "    if barco.fila < 0 or barco.columna < 0:\n",
    "        return False\n",
    "    if barco.orientacion == \"H\" and barco.columna + barco.eslora > columnas:\n",
    "        return False\n",
    "    if barco.orientacion == \"V\" and barco.fila + barco.eslora > filas:\n",
    "        return False\n",
    "    return True\n",
    "\n",
    "def revisar_solapamiento(tablero, barco):\n",
    "    for i in range(barco.eslora):\n",
    "        if barco.orientacion == \"H\":\n",
    "            if tablero[barco.fila, barco.columna + i] != s_agua:\n",
    "                return False\n",
    "        else:\n",
    "            if tablero[barco.fila + i, barco.columna] != s_agua:\n",
    "                return False\n",
    "    return True\n",
    "\n",
    "def crear_barco_por_input(eslora, tablero):\n",
    "    nombre = input(f\"Nombre del barco de eslora {eslora}: \")\n",
    "    while True:\n",
    "        try:\n",
    "            fila = int(input(\"Fila donde empieza: \"))\n",
    "            columna = int(input(\"Columna donde empieza: \"))\n",
    "            orientacion = input(\"Orientación (H para horizontal, V para vertical): \").upper()\n",
    "            barco = Barco(nombre, eslora, fila, columna, orientacion)\n",
    "            if not validar_posicion(barco):\n",
    "                print(\"Error. El barco se sale del tablero. Prueba otra vez.\")\n",
    "                continue\n",
    "            if not revisar_solapamiento(tablero, barco):\n",
    "                print(\"Error. Solapamiento con otro barco. Prueba otra vez.\")\n",
    "                continue\n",
    "            return barco\n",
    "        except ValueError:\n",
    "            print(\"Fila y columna deben ser números enteros.\")\n",
    "\n",
    "def colocar_barco(tablero, barco):\n",
    "    for i in range(barco.eslora):\n",
    "        if barco.orientacion == \"H\":\n",
    "            tablero[barco.fila, barco.columna + i] = s_barco\n",
    "        else:\n",
    "            tablero[barco.fila + i, barco.columna] = s_barco\n",
    "\n",
    "def mostrar_tableros(tab_def, tab_ataq):\n",
    "    titulo_def = \"TABLERO DE DEFENSA\"\n",
    "    titulo_ataq = \"TABLERO DE ATAQUE\"\n",
    "    header = \"   \" + \"\".join(str(i+1).center(cell_w) for i in range(columnas))\n",
    "    max_left = max(len(titulo_def), len(header))\n",
    "    \n",
    "    print(titulo_def.ljust(max_left) + \" | \" + titulo_ataq)\n",
    "    print(header.ljust(max_left) + \" | \" + header)\n",
    "    \n",
    "    for i in range(filas):\n",
    "        fila_def = \"\".join(tab_def[i, j].center(cell_w) for j in range(columnas))\n",
    "        fila_ataq = \"\".join(tab_ataq[i, j].center(cell_w) for j in range(columnas))\n",
    "        print(f\"{chr(65+i)}  {fila_def}\".ljust(max_left) + \" | \" + f\"{chr(65+i)}  {fila_ataq}\")\n",
    "\n",
    "# --- PROGRAMA PRINCIPAL ---\n",
    "if __name__ == \"__main__\":\n",
    "    tabl_us_def = np.full((filas, columnas), s_agua, dtype=str)\n",
    "    tabl_us_ataq = np.full((filas, columnas), s_agua, dtype=str)\n",
    "    \n",
    "    dicc_barcos = {}\n",
    "    \n",
    "    for eslora in flota:\n",
    "        barco = crear_barco_por_input(eslora, tabl_us_def)\n",
    "        colocar_barco(tabl_us_def, barco)\n",
    "        dicc_barcos[barco.nombre] = barco\n",
    "    \n",
    "    # Mostrar tableros en paralelo\n",
    "    mostrar_tableros(tabl_us_def, tabl_us_ataq)\n",
    "    \n",
    "    # Mostrar diccionario de barcos\n",
    "    print(\"\\nDiccionario de barcos:\")\n",
    "    for nombre, barco in dicc_barcos.items():\n",
    "        print(f\"{nombre}: {barco}\")\n"
   ]
  },
  {
   "cell_type": "code",
   "execution_count": 8,
   "id": "894a2562",
   "metadata": {},
   "outputs": [
    {
     "name": "stdout",
     "output_type": "stream",
     "text": [
      "Tablero de la máquina con barcos colocados aleatoriamente:\n",
      "\n",
      "['~' '~' '~' '~' '~']\n",
      "['~' '~' 'O' '~' '~']\n",
      "['~' '~' 'O' '~' 'O']\n",
      "['~' '~' '~' '~' 'O']\n",
      "['~' '~' '~' '~' 'O']\n",
      "\n",
      "Flota de la máquina:\n",
      "Barco2_31 (eslora 2) en (1, 2) V\n",
      "Barco3_94 (eslora 3) en (2, 4) V\n"
     ]
    }
   ],
   "source": [
    "\n",
    "\"\"\" \n",
    "Como cuarto paso, vamos a crear el tablero de la máquina. \n",
    "A diferencia de los tableros de usuario, la máquina colocará los barcos de forma aleatoria.\n",
    "\"\"\"\n",
    "\n",
    "import random\n",
    "\n",
    "def generar_barco_random(eslora, tablero):\n",
    "    while True:\n",
    "        fila = random.randint(0, filas-1)\n",
    "        columna = random.randint(0, columnas-1)\n",
    "        orientacion = random.choice([\"H\", \"V\"])\n",
    "        barco = Barco(f\"Barco{eslora}_{random.randint(1,99)}\", eslora, fila, columna, orientacion)\n",
    "        if validar_posicion(barco) and revisar_solapamiento(barco, tablero):\n",
    "            return barco\n",
    "\n",
    "# --- PROGRAMA PRINCIPAL ---\n",
    "tabl_maq = np.full((filas, columnas), s_agua, dtype=str)\n",
    "flota_maq = []\n",
    "\n",
    "for eslora in flota:\n",
    "    barco = generar_barco_random(eslora, tabl_maq)\n",
    "    colocar_barco(tabl_maq, barco)\n",
    "    flota_maq.append(barco)\n",
    "\n",
    "# --- MOSTRAR TABLERO ---\n",
    "print(\"Tablero de la máquina con barcos colocados aleatoriamente:\\n\")\n",
    "for i, fila in enumerate(tabl_maq):\n",
    "    print((fila))\n",
    "\n",
    "# --- MOSTRAR FLOTA ---\n",
    "print(\"\\nFlota de la máquina:\")\n",
    "for barco in flota_maq:\n",
    "    print(barco)\n"
   ]
  },
  {
   "cell_type": "markdown",
   "id": "b537943d",
   "metadata": {},
   "source": [
    "## Ayuda random: \n",
    "\n",
    "random es un `módulo` de Python (una biblioteca incluida por defecto)  \n",
    "que permite generar números aleatorios o elegir cosas al azar.\n"
   ]
  },
  {
   "cell_type": "code",
   "execution_count": 10,
   "id": "21350dd5",
   "metadata": {},
   "outputs": [
    {
     "name": "stdout",
     "output_type": "stream",
     "text": [
      "Agua\n",
      "[['~' '~' '~' '~' '~']\n",
      " ['~' '~' '~' '~' 'A']\n",
      " ['~' '~' '~' '~' '~']\n",
      " ['~' '~' '~' '~' '~']\n",
      " ['~' '~' '~' '~' '~']]\n"
     ]
    }
   ],
   "source": [
    "# Vamos a intentar atacar al tablero de la máquina y posicionar el ataque en nuestro tablero de ataque: \n",
    "\n",
    "# Disparar:\n",
    "fila = int(input(\"Dime la fila: (0,9) \"))\n",
    "columna = int(input(\"Dime la columna: (0,9) \"))\n",
    "\n",
    "if tabl_us_ataq[fila, columna] == \"X\":\n",
    "    print(\"¡Tocado!\")\n",
    "    tabl_us_ataq[fila, columna] = \"T\"\n",
    "\n",
    "else:\n",
    "    print(\"Agua\")\n",
    "    tabl_us_ataq[fila, columna] = \"A\"\n",
    "\n",
    "\n",
    "print(tabl_us_ataq)\n",
    "\n"
   ]
  }
 ],
 "metadata": {
  "kernelspec": {
   "display_name": "Python 3",
   "language": "python",
   "name": "python3"
  },
  "language_info": {
   "codemirror_mode": {
    "name": "ipython",
    "version": 3
   },
   "file_extension": ".py",
   "mimetype": "text/x-python",
   "name": "python",
   "nbconvert_exporter": "python",
   "pygments_lexer": "ipython3",
   "version": "3.11.9"
  }
 },
 "nbformat": 4,
 "nbformat_minor": 5
}
