{
 "cells": [
  {
   "cell_type": "code",
   "execution_count": null,
   "id": "10eaa8d2",
   "metadata": {},
   "outputs": [
    {
     "ename": "SyntaxError",
     "evalue": "invalid character '┌' (U+250C) (2240837737.py, line 1)",
     "output_type": "error",
     "traceback": [
      "  \u001b[36mCell\u001b[39m\u001b[36m \u001b[39m\u001b[32mIn[1]\u001b[39m\u001b[32m, line 1\u001b[39m\n\u001b[31m    \u001b[39m\u001b[31m┌─────────────────────────────────────────────────────┐\u001b[39m\n    ^\n\u001b[31mSyntaxError\u001b[39m\u001b[31m:\u001b[39m invalid character '┌' (U+250C)\n"
     ]
    }
   ],
   "source": [
    "┌─────────────────────────────────────────────────────┐\n",
    "│                   VARIABLES GLOBALES               │\n",
    "├─────────────────────────────────────────────────────┤\n",
    "│ filas, columnas, letras_columnas                   │\n",
    "│ símbolos: agua \"_\", barco \"O\", tocado \"X\", fallo \".\"│\n",
    "│ colores ANSI (rojo), flota = [2,2,2,3,3,4], archivo│\n",
    "└─────────────────────────────────────────────────────┘\n",
    "\n",
    "┌─────────────────────────────────────────────────────┐\n",
    "│              FUNCIONES AUXILIARES                  │\n",
    "├─────────────────────────────────────────────────────┤\n",
    "│ crear_tablero()                                    │\n",
    "│ valor_mostrar_celda(celda)                         │\n",
    "│ imprimir_tableros_lado(defensa, ataque, alias)     │\n",
    "│ letra_a_indice(letra)                              │\n",
    "│ celda_valida(f,c) / vecinas(f,c) / celdas_alrededor│\n",
    "└─────────────────────────────────────────────────────┘\n",
    "\n",
    "┌─────────────────────────────────────────────────────┐\n",
    "│           CREACIÓN Y GESTIÓN DE BARCOS             │\n",
    "├─────────────────────────────────────────────────────┤\n",
    "│ crear_barco(id, tamaño, posiciones)                │\n",
    "│ posiciones_colisionan(posiciones, otros_barcos)    │\n",
    "│ se_puede_colocar(posiciones, barcos_existentes)    │\n",
    "│ colocar_barco_en_tablero(tablero, barco)           │\n",
    "│ colocar_cobertura_en_tablero(tablero, barco)       │\n",
    "└─────────────────────────────────────────────────────┘\n",
    "\n",
    "┌─────────────────────────────────────────────────────┐\n",
    "│        COLOCACIÓN DE BARCOS (JUGADOR/MÁQUINA)      │\n",
    "├─────────────────────────────────────────────────────┤\n",
    "│ colocar_barcos_manual(jugador)                     │\n",
    "│   → Entrada usuario (fila, columna, H/V o SALIR)   │\n",
    "│ colocar_barcos_aleatorio_maquina()                 │\n",
    "│   → Posiciones aleatorias válidas                  │\n",
    "└─────────────────────────────────────────────────────┘\n",
    "\n",
    "┌─────────────────────────────────────────────────────┐\n",
    "│                   ATAQUES Y DAÑOS                  │\n",
    "├─────────────────────────────────────────────────────┤\n",
    "│ recibir_ataque(f,c, barcos, tablero_defensa)       │\n",
    "│   → devuelve: 'impacto', 'fallo' o 'ya'             │\n",
    "│ todos_barcos_hundidos(barcos)                      │\n",
    "└─────────────────────────────────────────────────────┘\n",
    "\n",
    "┌─────────────────────────────────────────────────────┐\n",
    "│                  TURNOS DE JUEGO                   │\n",
    "├─────────────────────────────────────────────────────┤\n",
    "│ turno_jugador(tab_atq, barcos_enem, tab_def_enem)  │\n",
    "│ turno_maquina(tab_atq_M, barcos_J, tab_def_J)      │\n",
    "│   → Gestionan input, impacto/fallo, hundimiento     │\n",
    "└─────────────────────────────────────────────────────┘\n",
    "\n",
    "┌─────────────────────────────────────────────────────┐\n",
    "│              GUARDAR Y CARGAR PARTIDA              │\n",
    "├─────────────────────────────────────────────────────┤\n",
    "│ guardar_partida(estado) → pickle.dump              │\n",
    "│ cargar_partida() → pickle.load                     │\n",
    "└─────────────────────────────────────────────────────┘\n",
    "\n",
    "┌─────────────────────────────────────────────────────┐\n",
    "│                    MAIN (juego_principal)          │\n",
    "├─────────────────────────────────────────────────────┤\n",
    "│ 1. ¿Existe partida guardada? → cargar o nueva      │\n",
    "│ 2. Solicita alias + coloca barcos jugador          │\n",
    "│ 3. Máquina coloca sus barcos                       │\n",
    "│ 4. Lanzamiento moneda → decide quién empieza       │\n",
    "│ 5. Bucle de turnos:                                │\n",
    "│       ├─ turno_jugador() si jugador                │\n",
    "│       ├─ turno_maquina() si máquina                │\n",
    "│       ├─ ¿SALIR? → guardar estado y salir          │\n",
    "│       ├─ ¿Barcos hundidos? → fin partida           │\n",
    "│ 6. Mostrar tableros finales y eliminar guardado     │\n",
    "└─────────────────────────────────────────────────────┘\n"
   ]
  }
 ],
 "metadata": {
  "kernelspec": {
   "display_name": "Python 3",
   "language": "python",
   "name": "python3"
  },
  "language_info": {
   "codemirror_mode": {
    "name": "ipython",
    "version": 3
   },
   "file_extension": ".py",
   "mimetype": "text/x-python",
   "name": "python",
   "nbconvert_exporter": "python",
   "pygments_lexer": "ipython3",
   "version": "3.11.9"
  }
 },
 "nbformat": 4,
 "nbformat_minor": 5
}
